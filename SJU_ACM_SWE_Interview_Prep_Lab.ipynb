{
  "nbformat": 4,
  "nbformat_minor": 0,
  "metadata": {
    "colab": {
      "name": "SJU ACM SWE Interview Prep Lab.ipynb",
      "provenance": [],
      "collapsed_sections": []
    },
    "kernelspec": {
      "name": "python3",
      "display_name": "Python 3"
    },
    "language_info": {
      "name": "python"
    }
  },
  "cells": [
    {
      "cell_type": "markdown",
      "metadata": {
        "id": "4TOoqjdAtG3r"
      },
      "source": [
        "## **SJU ACM Software Engineering Interview Prep**\n",
        "\n",
        "<br>\n",
        "\n",
        "### In order to understand time and space complexity, we will focus on a problem that everyone is likely familiar with - the **Fibonacci Sequence**\n",
        "\n",
        "<br>\n",
        "\n",
        "#### The Fibonacci Sequence is a series of numbers where the next number is found by adding up the two numbers before it\n",
        "\n",
        "<br>\n",
        "\n",
        "The Fibonacci Sequence is defined as: \n",
        ">  ### $F(n) = F(n-1) + F(n - 2)$\n",
        "\n",
        "<br> \n",
        "\n",
        "### As such, the first 10 numbers of the Fibonacci Sequence are:\n",
        "\n",
        "> ### 0, 1, 1, 2, 3, 5, 8, 13, 21, 34"
      ]
    },
    {
      "cell_type": "code",
      "metadata": {
        "id": "rZl4PaqmspXw"
      },
      "source": [
        ""
      ],
      "execution_count": null,
      "outputs": []
    }
  ]
}