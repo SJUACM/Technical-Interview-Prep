{
  "nbformat": 4,
  "nbformat_minor": 0,
  "metadata": {
    "colab": {
      "name": "SJU ACM SWE Interview Prep Lab.ipynb",
      "provenance": [],
      "collapsed_sections": []
    },
    "kernelspec": {
      "name": "python3",
      "display_name": "Python 3"
    },
    "language_info": {
      "name": "python"
    }
  },
  "cells": [
    {
      "cell_type": "markdown",
      "metadata": {
        "id": "4TOoqjdAtG3r"
      },
      "source": [
        "## **SJU ACM Software Engineering Interview Prep**\n",
        "\n",
        "<br>\n",
        "\n",
        "### In order to understand time and space complexity, we will focus on a problem that everyone is likely familiar with - the **Fibonacci Sequence**\n",
        "\n",
        "<br>\n",
        "\n",
        "#### The Fibonacci Sequence is a series of numbers where the next number is found by adding up the two numbers before it\n",
        "\n",
        "<br>\n",
        "\n",
        "The Fibonacci Sequence is defined as: \n",
        ">  ### $F(n) = F(n-1) + F(n - 2)$\n",
        "\n",
        "<br> \n",
        "\n",
        "### As such, the first 10 numbers of the Fibonacci Sequence are:\n",
        "\n",
        "> ### 0, 1, 1, 2, 3, 5, 8, 13, 21, 34, 55"
      ]
    },
    {
      "cell_type": "markdown",
      "metadata": {
        "id": "e7J5WKFANvyo"
      },
      "source": [
        "### Lets now imagine that we're making a web app that calculates the nth Fibonacci Number such as this:\n",
        "![image](https://user-images.githubusercontent.com/43652410/142350052-57a87712-dd69-4f7f-a2d0-8414dbf520ec.png)\n",
        "### We have to create a function that calculates Fib(n) given n\n"
      ]
    },
    {
      "cell_type": "code",
      "metadata": {
        "id": "L5vxa6plNvAm"
      },
      "source": [
        ""
      ],
      "execution_count": null,
      "outputs": []
    },
    {
      "cell_type": "code",
      "metadata": {
        "id": "rZl4PaqmspXw"
      },
      "source": [
        ""
      ],
      "execution_count": null,
      "outputs": []
    }
  ]
}